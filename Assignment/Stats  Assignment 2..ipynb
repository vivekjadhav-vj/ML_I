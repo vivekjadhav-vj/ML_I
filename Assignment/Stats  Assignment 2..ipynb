{
 "cells": [
  {
   "cell_type": "markdown",
   "metadata": {},
   "source": [
    "### Problem Statement 1:\n",
    "\n",
    "In each of the following situations, state whether it is a correctly stated hypothesis\n",
    "testing problem and why?\n",
    "1. H0: μ = 25, H1: μ ≠ 25\n",
    "2. H0: σ > 10, H1: σ = 10\n",
    "3. H0: x = 50, H1: x ≠ 50\n",
    "4. H0: p = 0.1, H1: p = 0.5\n",
    "5. H0: s = 30, H1: s > 30\n"
   ]
  },
  {
   "cell_type": "markdown",
   "metadata": {},
   "source": [
    "Ans\n",
    "1. Yes. This is a two sided hypothesis. Null and Alternative hypothesis are contradicting with each other.\n",
    "2. No. When one hypothesis has > claim, other should have <= claim. Here, it is not satisfied.\n",
    "3. No. Hypothesis should be a study of population. Here, it is of a sample.\n",
    "3. No. Either null or alternative should be true at any point of time. Here, if p=0.3 comes, then both null and alternative will fail.\n",
    "4. No. Hypothesis should be a study of population. Here, it is of a sample."
   ]
  },
  {
   "cell_type": "markdown",
   "metadata": {},
   "source": [
    "### Problem Statement 2:\n",
    "The college bookstore tells prospective students that the average cost of its\n",
    "textbooks is Rs. 52 with a standard deviation of Rs. 4.50. A group of smart statistics\n",
    "students thinks that the average cost is higher. To test the bookstore’s claim against\n",
    "their alternative, the students will select a random sample of size 100. Assume that\n",
    "the mean from their random sample is Rs. 52.80. Perform a hypothesis test at the\n",
    "5% level of significance and state your decision."
   ]
  },
  {
   "cell_type": "markdown",
   "metadata": {},
   "source": [
    "Answer -\n",
    "\n",
    "Significance level The significance level is 5%.\n",
    "\n",
    "mean = 52, stdev = 4.5, n=100, x= 52.8\n",
    "\n",
    "The critical value of z is – 1.96 and +1.96.\n",
    "\n",
    "The critical value is z = ± 1.96 for a two-tailed test at 5% level of significance.\n",
    "\n",
    "Since, the computed value of z = 1.78 falls in acceptance region, we accept the null hypothesis.\n",
    "\n",
    "Hence, the mean average cost of its textbooks is $52."
   ]
  },
  {
   "cell_type": "markdown",
   "metadata": {},
   "source": [
    "### Problem Statement 3:\n",
    "\n",
    "A certain chemical pollutant in the Genesee River has been constant for several\n",
    "years with mean μ = 34 ppm (parts per million) and standard deviation σ = 8 ppm. A\n",
    "group of factory representatives whose companies discharge liquids into the river is\n",
    "now claiming that they have lowered the average with improved filtration devices. A\n",
    "group of environmentalists will test to see if this is true at the 1% level of\n",
    "significance. Assume \\ that their sample of size 50 gives a mean of 32.5 ppm.\n",
    "Perform a hypothesis test at the 1% level of significance and state your decision."
   ]
  },
  {
   "cell_type": "markdown",
   "metadata": {},
   "source": [
    "Answer -\n",
    "\n",
    "H0 = mean is equal to 34 ppm\n",
    "\n",
    "H1 = mean < 34 ppm\n",
    "\n",
    "n= 50\n",
    "\n",
    "mean = 32.5\n",
    "\n",
    "t score = 32.5 - 34 / 8/sqrt(50) = -1.33\n",
    "\n",
    "PDF = 9.18\n",
    "\n",
    "The critical value of z is – 2.58 and +2.58. The critical value is z = ± 2.58 for a two-tailed test at 1% level of significance. Since, the computed value of z = -1.33 falls in acceptance region, we accept the null hypothesis. Hence, there claim that they have lowered the average discharge with improved filtration devices is true."
   ]
  },
  {
   "cell_type": "markdown",
   "metadata": {},
   "source": [
    "### Problem Statement 4:\n",
    "\n",
    "Based on population figures and other general information on the U.S. population,\n",
    "suppose it has been estimated that, on average, a family of four in the U.S. spends\n",
    "about $1135 annually on dental expenditures. Suppose further that a regional dental\n",
    "association wants to test to determine if this figure is accurate for their area of\n",
    "country. To test this, 22 families of 4 are randomly selected from the population in\n",
    "that area of the country and a log is kept of the family’s dental expenditure for one\n",
    "year. The resulting data are given below. Assuming, that dental expenditure is\n",
    "normally distributed in the population, use the data and an alpha of 0.5 to test the\n",
    "dental association’s hypothesis.\n",
    "1008, 812, 1117, 1323, 1308, 1415, 831, 1021, 1287, 851, 930, 730, 699,\n",
    "872, 913, 944, 954, 987, 1695, 995, 1003, 994"
   ]
  },
  {
   "cell_type": "markdown",
   "metadata": {},
   "source": [
    "Answer -\n",
    "\n",
    "Hypothesis\n",
    "\n",
    "H0 : mean is equal to 1135\n",
    "\n",
    "H1: mean is not eqaual to 1135\n",
    "\n",
    "The significance level is 5%.\n",
    "\n",
    "mean = 1135\n",
    "\n",
    "s = 240.37\n",
    "\n",
    "n=22\n",
    "\n",
    "sample mean =1031.32\n",
    "\n",
    "z= 1031 .32 - 1135 / 240.37 / sqrt(22)\n",
    "\n",
    "z = -2.02\n",
    "\n",
    "The critical value of z is – 1.96 and +1.96.\n",
    "\n",
    "The critical value is z = ± 1.96 for a two-tailed test at 5% level ofsignificance. Since, the computed value of z = 2.57 falls inrejection region, we reject the null hypothesis. Hence, the average dental expenses for the population is not accurate fortheir area."
   ]
  },
  {
   "cell_type": "markdown",
   "metadata": {},
   "source": [
    "### Problem Statement 5:\n",
    "\n",
    "In a report prepared by the Economic Research Department of a major bank the\n",
    "Department manager maintains that the average annual family income on Metropolis\n",
    "is $48,432. What do you conclude about the validity of the report if a random sample\n",
    "of 400 families shows and average income of $48,574 with a standard deviation of\n",
    "2000?"
   ]
  },
  {
   "cell_type": "markdown",
   "metadata": {},
   "source": [
    "Answer -\n",
    "\n",
    "mean = 48,432\n",
    "\n",
    "stddev = 2000\n",
    "\n",
    "n= 400\n",
    "\n",
    "sample mean = 48,574\n",
    "\n",
    "z = 48,574 - 48,432 / 2000 / sqrt(400)\n",
    "\n",
    "z=1.42\n",
    "\n",
    "The critical value of z is – 1.645 and +1.645. The critical value is z = ± 1.645 for a two-tailed test at 5% level of significance. Since, the computed value of z = 1.42 falls in acceptance region, we accept the null hypothesis."
   ]
  },
  {
   "cell_type": "markdown",
   "metadata": {},
   "source": [
    "### Problem Statement 6:\n",
    "\n",
    "Suppose that in past years the average price per square foot for warehouses in the\n",
    "United States has been $32.28. A national real estate investor wants to determine\n",
    "whether that figure has changed now. The investor hires a researcher who randomly\n",
    "samples 19 warehouses that are for sale across the United States and finds that the\n",
    "mean price per square foot is $31.67, with a standard deviation of $1.29. assume\n",
    "that the prices of warehouse footage are normally distributed in population. If the\n",
    "researcher uses a 5% level of significance, what statistical conclusion can be\n",
    "reached? What are the hypotheses?"
   ]
  },
  {
   "cell_type": "markdown",
   "metadata": {},
   "source": [
    "Answer -\n",
    "\n",
    "mean = 32.28\n",
    "\n",
    "stddev = 1.29\n",
    "\n",
    "n= 19\n",
    "\n",
    "sample mean = 31.67\n",
    "\n",
    "z= 31.67 - 32.28/1.29 / sqrt(19)\n",
    "\n",
    "z = -2.1\n",
    "\n",
    "The critical value of z is – 1.96 and +1.96. The critical value is z = ± 1.96 for a two-tailed test at 5% level of significance. Since, the computed value of z = -2.1 falls in rejection region, we reject the null hypothesis. Hence, the average price per square foot for warehouses has changed now."
   ]
  },
  {
   "cell_type": "markdown",
   "metadata": {},
   "source": [
    "### Problem Statement 7:\n",
    "Fill in the blank spaces in the table and draw your conclusions from it\n",
    "\n",
    "Acceptance region-------------Sample size---------alpha-------beta at mean = 52-----------beta at mean = 50.5\n",
    "\n",
    "48.5 < x < 51.5-----------------10----------------0.05-----------0.0025---------------------0.001\n",
    "\n",
    "48 < x < 51---------------------10----------------0.05-----------0.0025---------------------0.001\n",
    "\n",
    "48.81 < x < 51.9----------------16----------------0.10-----------0.005----------------------0.0005\n",
    "\n",
    "48.42 < x < 51.58-------------- 16----------------0.10-----------0.005----------------------0.0005"
   ]
  },
  {
   "cell_type": "markdown",
   "metadata": {},
   "source": [
    "### Problem Statement 8:\n",
    "Find the t-score for a sample size of 16 taken from a population with mean 10 when\n",
    "the sample mean is 12 and the sample standard deviation is 1.5."
   ]
  },
  {
   "cell_type": "markdown",
   "metadata": {},
   "source": [
    "Answer-\n",
    "\n",
    "\n",
    "x = 12\n",
    "\n",
    "μ = 10\n",
    "\n",
    "s = 1.5\n",
    "\n",
    "n= 16\n",
    "\n",
    "t = [ x - μ ] / [ s / sqrt( n ) ]\n",
    "\n",
    "t = (12-10)/ (1.5 /4)\n",
    "\n",
    "t= 2/0.375\n",
    "\n",
    "t= 5.33"
   ]
  },
  {
   "cell_type": "markdown",
   "metadata": {},
   "source": [
    "### Problem Statement 9:\n",
    "Find the t-score below which we can expect 99% of sample means will fall if samples\n",
    "of size 16 are taken from a normally distributed population."
   ]
  },
  {
   "cell_type": "markdown",
   "metadata": {},
   "source": [
    "Answer -\n",
    "\n",
    "1 − 𝛼 = 0.99\n",
    "\n",
    "𝛼 = 0.01\n",
    "\n",
    "𝑑𝑓 = 𝑛 − 1\n",
    "\n",
    "𝑡0.99 = −𝑡0.01\n",
    "\n",
    "𝑑𝑓 = 15\n",
    "\n",
    "𝑡0.99 = −𝑡0.01 = −2.602"
   ]
  },
  {
   "cell_type": "markdown",
   "metadata": {},
   "source": [
    "### Problem Statement 10:\n",
    "If a random sample of size 25 drawn from a normal population gives a mean of 60\n",
    "and a standard deviation of 4, find the range of t-scores where we can expect to find\n",
    "the middle 95% of all sample means. Compute the probability that (−t0.05 <t<t0.10)."
   ]
  },
  {
   "cell_type": "markdown",
   "metadata": {},
   "source": [
    "Answer-\n",
    "\n",
    "The parameter list is abbreviated (lower value, upper value,mean, standard error) Normal CDF = (85,92,90, 15/sqrt(25)= 0.6997 To find the value that is two standard deviations above the expected value 90, use the formula: value = maen + std.error value = 90 + 2 (15/ sqrt(25)= 96 The value that is two standard deviations above the expected value is 96. The standard error of the mean is 3"
   ]
  },
  {
   "cell_type": "markdown",
   "metadata": {},
   "source": [
    "### Problem Statement 11:\n",
    "Two-tailed test for difference between two population means\n",
    "Is there evidence to conclude that the number of people travelling from Bangalore to\n",
    "Chennai is different from the number of people travelling from Bangalore to Hosur in\n",
    "a week, given the following:\n",
    "Population 1: Bangalore to Chennai n1 = 1200\n",
    "x1 = 452\n",
    "s1 = 212\n",
    "Population 2: Bangalore to Hosur n2 = 800\n",
    "x2 = 523\n",
    "s2 = 185"
   ]
  },
  {
   "cell_type": "markdown",
   "metadata": {},
   "source": [
    "Answer-\n",
    "Population 1: Bangalore to Chennai\n",
    "\n",
    "n1 = 1200\n",
    "\n",
    "x1 = 452\n",
    "\n",
    "s1 = 212\n",
    "\n",
    "Population 2: Bangalore to Hosur\n",
    "\n",
    "n2 = 800\n",
    "\n",
    "x2 = 523\n",
    "\n",
    "s2 = 185\n",
    "\n",
    "H0 : x1 - x2 <= 45\n",
    "\n",
    "H1 : x1 - x2 > 45\n",
    "\n",
    "z = (452-523) -45 / sqrt(80.23)\n",
    "\n",
    "z = -7.96\n",
    "\n",
    "p value = 0\n",
    "\n",
    "H0 is rejected at a significance level of 5%\n",
    "\n",
    "H1 is accepted"
   ]
  },
  {
   "cell_type": "markdown",
   "metadata": {},
   "source": [
    "### Problem Statement 12:\n",
    "Is there evidence to conclude that the number of people preferring Duracell battery is\n",
    "different from the number of people preferring Energizer battery, given the following:\n",
    "Population 1: Duracell\n",
    "n1 = 100\n",
    "x1 = 308\n",
    "s1 = 84\n",
    "Population 2: Energizer\n",
    "n2 = 100\n",
    "x2 = 254\n",
    "s2 = 67"
   ]
  },
  {
   "cell_type": "markdown",
   "metadata": {},
   "source": [
    "Answer-\n",
    "\n",
    "Population1:Duracell\n",
    "\n",
    "x1= 308\n",
    "\n",
    "n1 =100\n",
    "\n",
    "s1 = 84\n",
    "\n",
    "Population 2: Energizer\n",
    "\n",
    "n2 = 100\n",
    "\n",
    "x2 = 254\n",
    "\n",
    "s2 = 67\n",
    "\n",
    "H0 : x1 - x2 <= 45\n",
    "\n",
    "H1 : x1 - x2 > 45\n",
    "\n",
    "z = (308-254) -45 / sqrt(115)\n",
    "\n",
    "z = 0.838\n",
    "\n",
    "p value = 0.2\n",
    "\n",
    "H0 is accepted"
   ]
  },
  {
   "cell_type": "markdown",
   "metadata": {},
   "source": [
    "### Problem Statement 13:\n",
    "Pooled estimate of the population variance\n",
    "Does the data provide sufficient evidence to conclude that average percentage\n",
    "increase in the price of sugar differs when it is sold at two different prices?\n",
    "Population 1: Price of sugar = Rs. 27.50 n1 = 14\n",
    "x1 = 0.317%\n",
    "s1 = 0.12%\n",
    "Population 2: Price of sugar = Rs. 20.00 n2 = 9\n",
    "x2 = 0.21%\n",
    "s2 = 0.11%"
   ]
  },
  {
   "cell_type": "markdown",
   "metadata": {},
   "source": [
    "Answer-\n",
    "Population 1: Price of sugar = Rs. 27.50\n",
    "\n",
    "n1 = 14\n",
    "\n",
    "x1 = 0.317%\n",
    "\n",
    "s1 = 0.12%\n",
    "\n",
    "Population 2: Price of sugar = Rs. 20.00\n",
    "\n",
    "n2 = 9\n",
    "\n",
    "x2 = 0.21%\n",
    "\n",
    "s2 = 0.11%\n",
    "\n",
    "H0 : x1 - x2 = 0\n",
    "\n",
    "H1 : x1 - x2 > 0\n",
    "\n",
    "z = (0.31-0.21) -0 / sqrt(0.00247)\n",
    "\n",
    "z = 2.154\n",
    "\n",
    "p value = 2.080\n",
    "\n",
    "H0 not rejected at a significance level of 5%\n",
    "\n",
    "H1 is accepted"
   ]
  },
  {
   "cell_type": "markdown",
   "metadata": {},
   "source": [
    "### Problem Statement 14:\n",
    "The manufacturers of compact disk players want to test whether a small price\n",
    "reduction is enough to increase sales of their product. Is there evidence that the\n",
    "small price reduction is enough to increase sales of compact disk players?\n",
    "Population 1: Before reduction\n",
    "n1 = 15\n",
    "x1 = Rs. 6598 s1 = Rs. 844\n",
    "Population 2: After reduction n2 = 12\n",
    "x2 = RS. 6870\n",
    "s2 = Rs. 669"
   ]
  },
  {
   "cell_type": "markdown",
   "metadata": {},
   "source": [
    "Answer-\n",
    "Population 1: Before reduction\n",
    "\n",
    "n1 = 15\n",
    "\n",
    "x1 = Rs. 6598\n",
    "\n",
    "s1 = Rs. 844\n",
    "\n",
    "Population 2: After reduction\n",
    "\n",
    "n2 = 12\n",
    "\n",
    "x2 = RS. 6870\n",
    "\n",
    "s2 = Rs. 669\n",
    "\n",
    "H0 : x1 - x2 = 0\n",
    "\n",
    "H1 : x1 - x2 > 0\n",
    "\n",
    "z = (6870-6598) -0 / sqrt(89375.25)\n",
    "\n",
    "z = 0.91\n",
    "\n",
    "p value = 1.316\n",
    "\n",
    "H0 is not rejected at a significance level of 10%"
   ]
  },
  {
   "cell_type": "markdown",
   "metadata": {},
   "source": [
    "### Problem Statement 15:\n",
    "Comparisons of two population proportions when the hypothesized difference is zero\n",
    "Carry out a two-tailed test of the equality of banks’ share of the car loan market in\n",
    "1980 and 1995.\n",
    "Population 1: 1980\n",
    "n1 = 1000\n",
    "x1 = 53\n",
    "p 1 = 0.53\n",
    "Population 2: 1985\n",
    "n2 = 100\n",
    "x2 = 43\n",
    "p 2= 0.53"
   ]
  },
  {
   "cell_type": "markdown",
   "metadata": {},
   "source": [
    "Answer-\n",
    "Population 1: 1980\n",
    "\n",
    "n1 = 1000\n",
    "\n",
    "x1 = 53\n",
    "\n",
    "𝑝 1 = 0.53\n",
    "\n",
    "Population 2: 1985\n",
    "\n",
    "n2 = 100\n",
    "\n",
    "x2 = 43\n",
    "\n",
    "𝑝 2= 0.53\n",
    "\n",
    "H0 : x1 - x2 = 0\n",
    "\n",
    "H1 : x1 - x2 > 0\n",
    "\n",
    "z = (0.53-0.43) -0.1 / sqrt(0.00492)\n",
    "\n",
    "z = 1.145\n",
    "\n",
    "p value = 1.645\n",
    "\n",
    "H0 is not rejected at a significance level of 10%"
   ]
  },
  {
   "cell_type": "markdown",
   "metadata": {},
   "source": [
    "### Problem Statement 16:\n",
    "Carry out a one-tailed test to determine whether the population proportion of\n",
    "traveler’s check buyers who buy at least $2500 in checks when sweepstakes prizes\n",
    "are offered as at least 10% higher than the proportion of such buyers when no\n",
    "sweepstakes are on.\n",
    "Population 1: With sweepstakes\n",
    "n1 = 300\n",
    "x1 = 120\n",
    "p = 0.40\n",
    "Population 2: No sweepstakes n2 = 700\n",
    "x2 = 140\n",
    "p 2= 0.20"
   ]
  },
  {
   "cell_type": "markdown",
   "metadata": {},
   "source": [
    "Answer-\n",
    "\n",
    "H0 : x1 - x2 <= 0.1\n",
    "\n",
    "H1 : x1 - x2 > 0.1\n",
    "\n",
    "z = (0.4-0.2) -0.1 / sqrt(0.03207)\n",
    "\n",
    "z = 3.118\n",
    "\n",
    "p value = 3.09\n",
    "\n",
    "H0 is rejected\n"
   ]
  },
  {
   "cell_type": "markdown",
   "metadata": {},
   "source": [
    "### Problem Statement 17:\n",
    "A die is thrown 132 times with the following results: Number turned up: 1, 2, 3, 4, 5, 6\n",
    "Frequency: 16, 20, 25, 14, 29, 28\n",
    "Is the die unbiased? Consider the degrees of freedom as p−1."
   ]
  },
  {
   "cell_type": "markdown",
   "metadata": {},
   "source": [
    "Null hypothesis : (H0) The die is unbiased Alternative Hypothesis (HA): The die is not unbiased.\n",
    "\n",
    "On the hypothesis that the die is unbiased we should expect the frequency of each number to be 132/6 =22\n",
    "\n",
    "Chi square value = ∑(O−E)2E=198/22=8.91\n",
    "\n",
    "Significance level = 0.05\n",
    "\n",
    "Degree of freedom = n-1 = 6-1 =5\n",
    "\n",
    "Critical value =11.0705\n",
    "\n",
    "Critical Value > Significance level\n",
    "\n",
    "HO is accepted.\n",
    "\n",
    "The die is unbiased."
   ]
  },
  {
   "cell_type": "markdown",
   "metadata": {},
   "source": [
    "### Problem Statement 18:\n",
    "In a certain town, there are about one million eligible voters. A simple random\n",
    "sample of 10,000 eligible voters was chosen to study the relationship between\n",
    "gender and participation in the last election. The results are summarized in the\n",
    "following 2X2 (read two by two) contingency table:\n",
    "\n",
    "\n",
    "\n",
    "We would want to check whether being a man or a woman (columns) is independent of\n",
    "having voted in the last election (rows). In other words, is “gender and voting independent”?"
   ]
  },
  {
   "cell_type": "markdown",
   "metadata": {},
   "source": [
    "\n",
    "#### Answer-\n",
    "\n",
    "Null Hypothesis= Sex is independent of Voting\n",
    "\n",
    "Alternative Hypothesis = Sex and Voting are dependent\n",
    "\n",
    "X2 = (2792-2731)^2/2731 (2131- We now have the observed table and the expected table under the null hypothesis of independence. After that we need to compute the X2 statistic. The X2 statistic measures how far away is the observed table from the expected one. The X2 statistic has as many terms as there are cells in the observed table (4 in our case):\n",
    "\n",
    "c11 = (2792-2731)^2/2731 c12 = (3591-3652)^2/3652 c21 = (1486-1547)^2/1547 c22 = (2131-2070)^2/2070\n",
    "\n",
    "The X2-statistic is the sum of each of the contributions from each cell:\n",
    "\n",
    "X2 = c11+c12+c21+c22\n",
    "\n",
    "X2 = 6.584283457\n",
    "\n",
    "Since the observed X2 = 6.58 and thus, 3.84 < X2 < 6.64 we conclude that: 1% < P-value < 5% and we reject the NULL. The data supports the hypothesis that sex and voting are dependent in this town."
   ]
  },
  {
   "cell_type": "markdown",
   "metadata": {},
   "source": [
    "### Problem Statement 19:\n",
    "A sample of 100 voters are asked which of four candidates they would vote for in an\n",
    "election. The number supporting each candidate is given below:\n",
    "H-41, R-19. W-24, C-16.\n",
    "\n",
    "Do the data suggest that all candidates are equally popular? [Chi-Square = 14.96, with 3 d.f.: p<0.05]."
   ]
  },
  {
   "cell_type": "markdown",
   "metadata": {},
   "source": [
    "##### Answer-\n",
    "\n",
    "\n",
    "A Chi-Squared Goodness-of-Fit test is appropriate here. The null hypothesis is that there is no preference for any of the candidates: if this is so, we would expect roughly equal numbers of voters to support each candidate. Our expected frequencies are therefore 100/4 = 25 per candidate.\n",
    "\n",
    "(O - E)2 / E = 10.24+ 1.44 + 0.04 + 3.24 = 14.96, with 4 - 1 = 3 degrees of freedom.\n",
    "\n",
    "The critical value of Chi-Square for a 0.05 significance level and 3 d.f. is 7.82. Our obtained Chi-Square value is bigger than this, and so we conclude that our obtained value is unlikely to have occurred merely by chance. In fact, our obtained value is bigger than the critical Chi-Square value for the 0.01 significance level (13.28). In other words, it is possible that our obtained Chi-Square value is due merely to chance, but highly unlikely: a Chi-Square value as large as ours will occur by chance only about once in a hundred trials. It seems more reasonable to conclude that our results are not de to chance, and that the data do indeed suggest that voters do not prefer the four candidates equally."
   ]
  },
  {
   "cell_type": "markdown",
   "metadata": {},
   "source": [
    "### Problem statement 20\n",
    "Children of three ages are asked to indicate their preference for three photographs of adults. Do the data suggest that there is a significant relationship between age and photograph preference? What is wrong with this study? [Chi-Square = 29.6, with 4 d.f.: p<0.05].\n",
    "\n",
    "(a) Work out the row, column and grand totals (as shown in the shaded parts of the table, above).\n",
    "\n",
    "(b) Work out the expected frequencies, using the formula:\n",
    "\n",
    "O:18 22 20 2 28 40 20 10 40\n",
    "\n",
    "E: 12 18 30 14 21 35 14 2135\n",
    "\n",
    "Next, work out (O - E):\n",
    "\n",
    "(O-E): 6 4 -10 -12 7 5 6 11 5\n",
    "\n",
    "Square each of these, to get (O - E)2 :\n",
    "\n",
    "(O - E)2: 36 16 100 144 49 25 36 121 25\n",
    "\n",
    "Divide each of the above numbers by E, to get (O - E)2 / E: 3 0.89 3.33 10.29 2.33 0.71 2.5 75.7 60.71\n",
    "\n",
    "Chi-squared is the sum of these:\n",
    "\n",
    "c2 = 29.60.\n",
    "\n",
    "d.f. = (rows - 1) (columns - 1) = 2 2 = 4.\n",
    "\n",
    "The critical value of Chi-Square in the table for a 0.001 significance level and 4 d.f. is 18.46. Our obtained Chi-Square value is bigger than this: therefore we have a Chi-Square value which is so large that it would occur by chance only about once in a thousand times. It seems more reasonable to accept the alternative hypothesis, that there is a significant relationship between age of child and photograph preference."
   ]
  },
  {
   "cell_type": "markdown",
   "metadata": {},
   "source": [
    "### Problem statement 21:\n",
    "A study of conformity using the Asch paradigm involved two conditions: one where one confederate supported the true judgement and another where no confederate gave the correct response.\n",
    "\n",
    "O: 18 40 32 10\n",
    "\n",
    "E:29 29 21 21\n",
    "\n",
    "Next, work out (O - E):\n",
    "\n",
    "(|O-E|- 0.5):10.5 10.5 10.5 10.5\n",
    "\n",
    "Square each of these, to get (O - E)2 :\n",
    "\n",
    "(|O-E|- 0.5)2: 110.25 110.25 110.25 110.25\n",
    "\n",
    "Divide each of the above numbers by E, to get (O - E)2 / E:\n",
    "\n",
    "(O - E)2/ E : 3.80 3.80 5.25 5.25\n",
    "\n",
    "Chi-squared is the sum of these:\n",
    "\n",
    "c2 = 18.10.\n",
    "\n",
    "d.f. = (rows - 1) (columns - 1) = 1 1 = 1.\n",
    "\n",
    "Our obtained value of Chi-Squared is bigger than the critical value of Chi-Squared for a 0.001 significance level. In other words, there is less than a one in a thousand chance of obtaining a Chi-Square value as big as our obtained one, merely by chance. Therefore we can conclude that there is a significant difference between the \"support\" and \"no support\" conditions, in terms of the frequency with which individuals conformed."
   ]
  },
  {
   "cell_type": "markdown",
   "metadata": {},
   "source": [
    "### Problem Statemet 22:\n",
    "We want to test whether short people differ with respect to their leadership qualities (Genghis Khan, Adolf Hitler and Napoleon were all stature-deprived, and how many midget MP's are there?) The following table shows the frequencies with which 43 short people and 52 tall people were categorized as \"leaders\", \"followers\" or as \"unclassifiable\". Is there a relationship between height and leadership qualities? [Chi-Square = 10.71, with 2 df: 𝑝 < 0.01]."
   ]
  },
  {
   "cell_type": "markdown",
   "metadata": {},
   "source": [
    "\n",
    "#### Answer-\n",
    "\n",
    "Chi-Square = 3.146 + 2.602 + 1.998 + 1.652 + 0.720 + 0.595 = 10.712, with 2 d.f.\n",
    "\n",
    "10.712 is bigger than the tabulated value of Chi-Square at the 0.01 significance level. We would conclude that there seems to be a relationship between height and leadership qualities. Note that we can only say that there is a relationship between our two variables, not that once causes the other. There could be all kinds of explanations for such a relationship."
   ]
  },
  {
   "cell_type": "markdown",
   "metadata": {},
   "source": [
    "### Problem Statement 23:\n",
    "\n",
    "Each respondent in the Current Population Survey of March 1993 was classified as\n",
    "employed, unemployed, or outside the labor force. The results for men in California age 35-\n",
    "44 can be cross-tabulated by marital status, as follows:\n",
    "\n",
    "Men of different marital status seem to have different distributions of labor force status. Or is\n",
    "this just chance variation? (you may assume the table results from a simple random\n",
    "sample.)"
   ]
  },
  {
   "cell_type": "markdown",
   "metadata": {},
   "source": [
    "#### Answer-\n",
    "\n",
    "Ho: Rows and columns are independent.\n",
    "\n",
    "Ha: There is a relationship between rows and columns.\n",
    "\n",
    "Significance Level = 0.05\n",
    "\n",
    "ChiSq = (679 - 654.063315)^2 / 654.063315 + (103 - 109.288641)^2 / 109.288641 + (114 - 132.648045)^2 / 132.648045 + (63 - 67.888268)^2 / 67.888268 + (10 - 11.343575)^2 / 11.343575 + (20 - 13.768156)^2 / 13.768156 + (42 - 62.048417)^2 / 62.048417 + (18 - 10.367784)^2 / 10.367784 + (25 - 12.583799)^2 / 12.583799 = 31.613103\n",
    "\n",
    "Degree of Freedom = (3 - 1)(3 - 1) = 4\n",
    "Critical Value: ChiSq(0.05, 4) = 9.487729\n",
    "\n",
    "ChiSq = 31.613103\n",
    "\n",
    "P(>ChiSq) = 2.295E-006 < 0.05\n",
    "\n",
    "Reject the null hypothesis at the 0.05 significance level.\n",
    "There is a relationship between rows and columns."
   ]
  },
  {
   "cell_type": "code",
   "execution_count": null,
   "metadata": {},
   "outputs": [],
   "source": []
  }
 ],
 "metadata": {
  "kernelspec": {
   "display_name": "Python 3",
   "language": "python",
   "name": "python3"
  },
  "language_info": {
   "codemirror_mode": {
    "name": "ipython",
    "version": 3
   },
   "file_extension": ".py",
   "mimetype": "text/x-python",
   "name": "python",
   "nbconvert_exporter": "python",
   "pygments_lexer": "ipython3",
   "version": "3.6.8"
  }
 },
 "nbformat": 4,
 "nbformat_minor": 4
}
