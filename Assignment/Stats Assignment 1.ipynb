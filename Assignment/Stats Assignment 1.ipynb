{
 "cells": [
  {
   "cell_type": "markdown",
   "metadata": {},
   "source": [
    "Calculate the mean, median, mode and standard deviation for the problem\n",
    "statements 1& 2."
   ]
  },
  {
   "cell_type": "markdown",
   "metadata": {},
   "source": [
    "Problem Statement 1:\n",
    "\n",
    "The marks awarded for an assignment set for a Year 8 class of 20 students were as\n",
    "follows:\n",
    "6 7 5 7 7 8 7 6 9 7 4 10 6 8 8 9 5 6 4 8"
   ]
  },
  {
   "cell_type": "code",
   "execution_count": 23,
   "metadata": {},
   "outputs": [
    {
     "name": "stdout",
     "output_type": "stream",
     "text": [
      "sum of data: 137\n",
      "mean of data is: 6.85\n",
      "meadian of data is: 7.0\n",
      "mode of data is: ModeResult(mode=array([7]), count=array([5]))\n"
     ]
    }
   ],
   "source": [
    "import numpy as np\n",
    "from scipy import stats\n",
    "x=[6,7,5,7,7,8,7,6,9,7,4,10,6,8,8,9,5,6,4,8]\n",
    "sum=0\n",
    "for i in x:\n",
    "    sum=sum+i\n",
    "print(\"sum of data:\",sum)\n",
    "mean=sum/20\n",
    "print(\"mean of data is:\",mean)\n",
    "median=np.median(x)\n",
    "print(\"meadian of data is:\",median)\n",
    "mode=stats.mode(x)\n",
    "print(\"mode of data is:\",mode)"
   ]
  },
  {
   "cell_type": "markdown",
   "metadata": {},
   "source": [
    "### Problem Statement 2:\n",
    "\n",
    "The number of calls from motorists per day for roadside service was recorded for a\n",
    "particular month:\n",
    "28, 122, 217, 130, 120, 86, 80, 90, 140, 120, 70, 40, 145, 113, 90, 68, 174, 194, 170,\n",
    "100, 75, 104, 97, 75,\n",
    "123, 100, 75, 104, 97, 75, 123, 100, 89, 120, 109"
   ]
  },
  {
   "cell_type": "code",
   "execution_count": 25,
   "metadata": {},
   "outputs": [
    {
     "name": "stdout",
     "output_type": "stream",
     "text": [
      "mean of data is: 107.51428571428572\n",
      "meadian of data is: 100.0\n",
      "mode of data is: ModeResult(mode=array([75]), count=array([4]))\n"
     ]
    }
   ],
   "source": [
    "x=[28, 122, 217, 130, 120, 86, 80, 90, 140, 120, 70, 40, 145, 113, 90, 68, 174, 194, 170,100, 75, 104, 97, 75,123, 100, 75, 104, 97, 75, 123, 100, 89, 120, 109]\n",
    "mean=np.mean(x)\n",
    "print(\"mean of data is:\",mean)\n",
    "median=np.median(x)\n",
    "print(\"meadian of data is:\",median)\n",
    "mode=stats.mode(x)\n",
    "print(\"mode of data is:\",mode)"
   ]
  },
  {
   "cell_type": "markdown",
   "metadata": {},
   "source": [
    "### Problem Statement 3:\n",
    "\n",
    "The number of times I go to the gym in weekdays, are given below along with its\n",
    "associated probability:\n",
    "x = 0, 1, 2, 3, 4, 5\n",
    "f(x) = 0.09, 0.15, 0.40, 0.25, 0.10, 0.01\n",
    "Calculate the mean no. of workouts in a week. Also evaluate the variance involved in\n",
    "it."
   ]
  },
  {
   "cell_type": "code",
   "execution_count": null,
   "metadata": {},
   "outputs": [],
   "source": [
    "x = [0, 1, 2, 3, 4, 5]\n",
    "f=[0.09, 0.15, 0.40, 0.25, 0.10, 0.01]\n",
    "mean=0*0.09+1*.15+2*.15+3*.25+4*.1+5*.01\n",
    "print(mean)#mean is 1.65\n",
    "var=0.09*(0-1.65)**2+.15*(1-1.65)**2+.4*(2-1.65)**2+.25*(3-1.65)**2+.1*(4-1.65)**2+.01*(5-1.65)**2\n",
    "print(var)#var is 1.4775."
   ]
  },
  {
   "cell_type": "code",
   "execution_count": 46,
   "metadata": {},
   "outputs": [
    {
     "name": "stdout",
     "output_type": "stream",
     "text": [
      "meanis : 1.6500000000000001\n",
      "variance is: 1.4775000000000003\n"
     ]
    }
   ],
   "source": [
    "a = [0, 1, 2, 3, 4, 5]\n",
    "f=[0.09, 0.15, 0.40, 0.25, 0.10, 0.01]\n",
    "Sum=(map(lambda x,y: x*y,a,f ))\n",
    "mean=0*0.09+1*.15+2*.15+3*.25+4*.1+5*.01\n",
    "print(\"meanis :\", mean)\n",
    "var=0.09*(0-1.65)**2+.15*(1-1.65)**2+.4*(2-1.65)**2+.25*(3-1.65)**2+.1*(4-1.65)**2+.01*(5-1.65)**2\n",
    "print(\"variance is:\",var)\n"
   ]
  },
  {
   "cell_type": "markdown",
   "metadata": {},
   "source": [
    "### Problem Statement 4:\n",
    "\n",
    "Let the continuous random variable D denote the diameter of the hole drilled in an\n",
    "aluminum sheet. The target diameter to be achieved is 12.5mm. Random\n",
    "disturbances in the process often result in inaccuracy.\n",
    "Historical data shows that the distribution of D can be modelled by the PDF (d) =\n",
    "20e−20(d−12.5), d ≥ 12.5. If a part with diameter > 12.6 mm needs to be scrapped,\n",
    "what is the proportion of those parts? What is the CDF when the diameter is of 11\n",
    "mm? What is your conclusion regarding the proportion of scraps?"
   ]
  },
  {
   "cell_type": "markdown",
   "metadata": {},
   "source": [
    "## solution:\n",
    "    CDf is zero when the diameter is 11mm."
   ]
  },
  {
   "cell_type": "markdown",
   "metadata": {},
   "source": [
    "### Problem Statement 5:\n",
    "\n",
    "A company manufactures LED bulbs with a faulty rate of 30%. If I randomly select 6\n",
    "chosen LEDs, what is the probability of having 2 faulty LEDs in my sample?\n",
    "Calculate the average value of this process. Also evaluate the standard deviation\n",
    "associated with it."
   ]
  },
  {
   "cell_type": "markdown",
   "metadata": {},
   "source": [
    "### Solution:\n",
    "    Here rnadom variable follow the binomial distribution with parameter p=0.3 and n=6.x~bin(6,.3)\n",
    "   probability having 2 faulty LED's is 0.3241 \n",
    "   \n",
    "   average value of the process is 1.8 \n",
    "   \n",
    "   Standard deviation of the process is 1.26"
   ]
  },
  {
   "cell_type": "markdown",
   "metadata": {},
   "source": [
    "### Problem Statement 6:\n",
    "\n",
    "Gaurav and Barakha are both preparing for entrance exams. Gaurav attempts to\n",
    "solve 8 questions per day with a correction rate of 75%, while Barakha averages\n",
    "around 12 questions per day with a correction rate of 45%. What is the probability\n",
    "that each of them will solve 5 questions correctly? What happens in cases of 4 and 6\n",
    "correct solutions? What do you infer from it? What are the two main governing\n",
    "factors affecting their ability to solve questions correctly? Give a pictorial\n",
    "representation of the same to validate your answer."
   ]
  },
  {
   "cell_type": "markdown",
   "metadata": {},
   "source": [
    "### Solution:\n",
    "    x is random varible corresponding to the gaurov and y is the random variable corresponding the Barakha.x~bin(8,0.75) and y~bin(12,0.45).The probability\n",
    "that Gaurav will solve 5 questions correctly is 0.2076 \n",
    "\n",
    "The probability that Barakha will solve 5 questions correctly is 0.2224."
   ]
  },
  {
   "cell_type": "code",
   "execution_count": 50,
   "metadata": {},
   "outputs": [
    {
     "data": {
      "text/plain": [
       "[Text(0, 0.5, 'Frequency'), Text(0.5, 0, 'Binomial')]"
      ]
     },
     "execution_count": 50,
     "metadata": {},
     "output_type": "execute_result"
    },
    {
     "data": {
      "image/png": "[encoded data removed]",
      "text/plain": [
       "<Figure size 432x288 with 1 Axes>"
      ]
     },
     "metadata": {
      "needs_background": "light"
     },
     "output_type": "display_data"
    }
   ],
   "source": [
    "#pictorical representation1\n",
    "import seaborn\n",
    "from scipy.stats import binom\n",
    "data=binom.rvs(n=8,p=0.75,loc=0,size=1010)\n",
    "ax=seaborn.distplot(data,kde=True,color='gray',hist_kws={\"linewidth\": 22,'alpha':0.77})\n",
    "ax.set(xlabel='Binomial',ylabel='Frequency')"
   ]
  },
  {
   "cell_type": "code",
   "execution_count": 51,
   "metadata": {},
   "outputs": [
    {
     "data": {
      "text/plain": [
       "[Text(0, 0.5, 'Frequency'), Text(0.5, 0, 'Binomial')]"
      ]
     },
     "execution_count": 51,
     "metadata": {},
     "output_type": "execute_result"
    },
    {
     "data": {
      "image/png": "[encoded data removed]",
      "text/plain": [
       "<Figure size 432x288 with 1 Axes>"
      ]
     },
     "metadata": {
      "needs_background": "light"
     },
     "output_type": "display_data"
    }
   ],
   "source": [
    "import seaborn\n",
    "from scipy.stats import binom\n",
    "data=binom.rvs(n=12,p=0.45,loc=0,size=1010)\n",
    "ax=seaborn.distplot(data,kde=True,hist_kws={\"linewidth\": 22,'alpha':0.77})\n",
    "ax.set(xlabel='Binomial',ylabel='Frequency')"
   ]
  },
  {
   "cell_type": "markdown",
   "metadata": {},
   "source": [
    "### Problem Statement 7:\n",
    "\n",
    "Customers arrive at a rate of 72 per hour to my shop. What is the probability of k\n",
    "customers arriving in 4 minutes? a) 5 customers, b) not more than 3 customers, c)\n",
    "more than 3 customers. Give a pictorial representation of the same to validate your\n",
    "answer."
   ]
  },
  {
   "cell_type": "markdown",
   "metadata": {},
   "source": [
    "### Solution\n",
    "Here x random variable arrive rate follow the pisson disribution with parameter 1.2"
   ]
  },
  {
   "cell_type": "code",
   "execution_count": 52,
   "metadata": {},
   "outputs": [
    {
     "name": "stdout",
     "output_type": "stream",
     "text": [
      "Customers arriving /hour = 72\n",
      "Customers arriving /min = 1.2\n",
      "Customers arriving /4 min = 4.8\n",
      "\n",
      " Answer = c) more than 3 customers \n"
     ]
    },
    {
     "data": {
      "image/png": "[encoded data removed]",
      "text/plain": [
       "<Figure size 432x288 with 1 Axes>"
      ]
     },
     "metadata": {
      "needs_background": "light"
     },
     "output_type": "display_data"
    }
   ],
   "source": [
    "import matplotlib.pyplot as plt\n",
    "import numpy as np\n",
    "\n",
    "print(\"Customers arriving /hour = 72\")\n",
    "print(\"Customers arriving /min =\",72/60)\n",
    "print(\"Customers arriving /4 min =\",(72/60)*4)\n",
    "print(\"\\n Answer = c) more than 3 customers \")\n",
    "\n",
    "sum= 72/60\n",
    "customersarriving=[72/60]\n",
    "for i in range(0,59):\n",
    "    sum=sum+(72/60)\n",
    "    customersarriving.append(sum)\n",
    "#print(customersarriving)\n",
    "min=np.arange(0,60)\n",
    "\n",
    "\n",
    "barlist=plt.bar(customersarriving,min)\n",
    "barlist[4].set_color('r')    \n",
    "plt.show()"
   ]
  },
  {
   "cell_type": "markdown",
   "metadata": {},
   "source": [
    "### Problem Statement 8:\n",
    "\n",
    "I work as a data analyst in Aeon Learning Pvt. Ltd. After analyzing data, I make\n",
    "reports, where I have the efficiency of entering 77 words per minute with 6 errors per\n",
    "hour. What is the probability that I will commit 2 errors in a 455-word financial report?\n",
    "What happens when the no. of words increases/decreases (in case of 1000 words,\n",
    "255 words)?\n",
    "How is the λ affected?\n",
    "How does it influence the PMF?\n",
    "Give a pictorial representation of the same to validate your answer."
   ]
  },
  {
   "cell_type": "code",
   "execution_count": 53,
   "metadata": {},
   "outputs": [
    {
     "name": "stdout",
     "output_type": "stream",
     "text": [
      "This is a case of poisson distribution\n",
      "77 words = 60 seconds\n",
      "Therefore, 455 words = 590 seconds = apprximately 6 minutes\n",
      "Number of error =2 \n",
      "Rate of succeess = 453\n",
      "P(commit 2 errors in a 455-word financial report) = Poisson Probability: P(X = 455, R=2) = 0.18 = 18% \n",
      "P(commit 2 errors in a 1000-word financial report) = Poisson Probability: P(X = 1000,R=2) = 0.01259 = 1.259%\n",
      "P(commit 2 errors in a 255-word financial report) = Poisson Probability: P(X = 255, R=2) = 0.2478 = 24.78%\n",
      "λ will be increased when the number of words increase in the event PMF will decrease when the number of words increase in the event\n"
     ]
    }
   ],
   "source": [
    "#Solution\n",
    "print(\"This is a case of poisson distribution\")\n",
    "print(\"77 words = 60 seconds\")\n",
    "print(\"Therefore, 455 words = 590 seconds = apprximately 6 minutes\")\n",
    "print(\"Number of error =2 \")\n",
    "print(\"Rate of succeess = 453\")\n",
    "print(\"P(commit 2 errors in a 455-word financial report) = Poisson Probability: P(X = 455, R=2) = 0.18 = 18% \")\n",
    "print(\"P(commit 2 errors in a 1000-word financial report) = Poisson Probability: P(X = 1000,R=2) = 0.01259 = 1.259%\")\n",
    "print(\"P(commit 2 errors in a 255-word financial report) = Poisson Probability: P(X = 255, R=2) = 0.2478 = 24.78%\")\n",
    "\n",
    "print(\"λ will be increased when the number of words increase in the event PMF will decrease when the number of words increase in the event\")"
   ]
  },
  {
   "cell_type": "markdown",
   "metadata": {},
   "source": [
    "### Problem Statement 9:\n",
    "\n",
    "Let the continuous random variable D denote the diameter of the hole drilled in an\n",
    "aluminum sheet. The target diameter to be achieved is 12.5mm. Random\n",
    "disturbances in the process often result in inaccuracy.\n",
    "Historical data shows that the distribution of D can be modelled by the PDF, f(d) =\n",
    "20e−20(d−12.5), d ≥ 12.5. If a part with diameter > 12.6 mm needs to be scrapped,\n",
    "what is the proportion of those parts? What is the CDF when the diameter is of 11\n",
    "mm?\n",
    "What is the conclusion of this experiment?"
   ]
  },
  {
   "cell_type": "code",
   "execution_count": 54,
   "metadata": {},
   "outputs": [
    {
     "name": "stdout",
     "output_type": "stream",
     "text": [
      " Proportion of scrapped parts = -e * pow (-20 (x -12.5) = P(x > 12.6) = 0.135\n",
      " If the proportion is between 12.5 and 12.6 then,P(12.5<x<12.6) = 0.865\n",
      " CDF when diameter is 11 = 1- (-e * pow (-20 (x -11.5)) = ~75% or 0.75\n",
      " Concusion is that whenever diameter is reduced, the probale proprtion of scrapped parts will decrease\n"
     ]
    }
   ],
   "source": [
    "print(\" Proportion of scrapped parts = -e * pow (-20 (x -12.5) = P(x > 12.6) = 0.135\\n If the proportion is between 12.5 and 12.6 then,P(12.5<x<12.6) = 0.865\\n CDF when diameter is 11 = 1- (-e * pow (-20 (x -11.5)) = ~75% or 0.75\\n Concusion is that whenever diameter is reduced, the probale proprtion of scrapped parts will decrease\")"
   ]
  },
  {
   "cell_type": "markdown",
   "metadata": {},
   "source": [
    "### Problem Statement 10:\n",
    "\n",
    "Please compute the following:\n",
    "a) P(Z > 1.26), . P(Z < −0.86), P(Z > −1.37), P(−1.25 < Z < 0.37), . P(Z ≤ −4.6)\n",
    "b) Find the value z such that P(Z > z) = 0.05\n",
    "c) Find the value of z such that P(−z < Z < z) = 0.99"
   ]
  },
  {
   "cell_type": "code",
   "execution_count": 56,
   "metadata": {},
   "outputs": [
    {
     "name": "stdout",
     "output_type": "stream",
     "text": [
      " a1)   P(Z > 1.26) \n",
      "       P( 1 - 0.8962) = 0.1038\n",
      "\n",
      " a2)   P(Z > -1.37) \n",
      "       P( 1 - 0.9147) =  0.0853\n",
      "\n",
      " a3)   P(−1.25 < Z < 0.37) \n",
      "        P(0.8944 - 0.6443) =  0.2501\n",
      "\n",
      " a4)   P(Z ≤ −4.6) \n",
      "     Value is an outlier. Probability must be zero \n",
      "\n",
      "  b)    1.68\n",
      "\n",
      "  c)    3 sigma means 99% in normal distribution \n",
      "        P(−z < Z < z) = 0.99 \n",
      "       z=3\n"
     ]
    }
   ],
   "source": [
    "answera1= \" a1)   P(Z > 1.26) \\n       P( 1 - 0.8962) = 0.1038\\n\"\n",
    "answera2= \" a2)   P(Z > -1.37) \\n       P( 1 - 0.9147) =  0.0853\\n\"\n",
    "answera3= \" a3)   P(−1.25 < Z < 0.37) \\n        P(0.8944 - 0.6443) =  0.2501\\n\"\n",
    "answera4= \" a4)   P(Z ≤ −4.6) \\n     Value is an outlier. Probability must be zero \\n\"\n",
    "answerb= \"  b)    1.68\\n\"\n",
    "answerc= \"  c)    3 sigma means 99% in normal distribution \\n        P(−z < Z < z) = 0.99 \\n       z=3\"\n",
    "print(answera1)\n",
    "print(answera2)\n",
    "print(answera3)\n",
    "print(answera4)\n",
    "print(answerb)\n",
    "print(answerc)"
   ]
  },
  {
   "cell_type": "markdown",
   "metadata": {},
   "source": [
    "### Problem Statement 11:\n",
    "\n",
    "The current flow in a copper wire follow a normal distribution with a mean of 10 mA\n",
    "and a variance of 4 (mA)2.\n",
    "What is the probability that a current measurement will exceed 13 mA? What is the\n",
    "probability that a current measurement is between 9 and 11mA? Determine the\n",
    "current measurement which has a probability of 0.98."
   ]
  },
  {
   "cell_type": "code",
   "execution_count": 57,
   "metadata": {},
   "outputs": [
    {
     "name": "stdout",
     "output_type": "stream",
     "text": [
      "a) mean =10 stddev =2\n",
      "  P(m > 13)= 1 - 0.93 = 0.07 \n",
      "\n",
      " b)  P(9<m<11)= p(0.84 - 0.69) = 0.15 \n",
      "\n",
      "c) p(Z>0.98) = 2.09 \n",
      "   std deviation = 10 +- 2.09 =  \n",
      "   8.91 < = measurement <= 12.09 \n",
      "\n"
     ]
    }
   ],
   "source": [
    "answera = \"a) mean =10 stddev =2\\n  P(m > 13)= 1 - 0.93 = 0.07 \\n\"\n",
    "answerb = \" b)  P(9<m<11)= p(0.84 - 0.69) = 0.15 \\n\"\n",
    "answerc = \"c) p(Z>0.98) = 2.09 \\n   std deviation = 10 +- 2.09 =  \\n   8.91 < = measurement <= 12.09 \\n\"   \n",
    "\n",
    "print(answera)\n",
    "print(answerb)\n",
    "print(answerc)"
   ]
  },
  {
   "cell_type": "markdown",
   "metadata": {},
   "source": [
    "### Problem Statement 12:\n",
    "\n",
    "The shaft in a piston has its diameter normally distributed with a mean of 0.2508 inch\n",
    "and a standard deviation of 0.0005 inch. The specifications of the shaft are 0.2500 ∓\n",
    "0.0015 inch. What proportion of shafts are in sync with the specifications? If the\n",
    "process is centered so that the mean is equal to the target value of 0.2500, what\n",
    "proportion of shafts conform to the new specifications? What is your conclusion from\n",
    "this experiment?"
   ]
  },
  {
   "cell_type": "code",
   "execution_count": 58,
   "metadata": {},
   "outputs": [
    {
     "name": "stdout",
     "output_type": "stream",
     "text": [
      " a) Range of distribution = (0.2493,0.2523) \n",
      " Given condition range= (0.2485,0.2515) \n",
      " This is more than 4 standard dev apart in left side  and 3 standard dev from right side of the normal distribution. \n",
      " This is an outlier.\n",
      "Hence proportion becomes approximately 99.5% \n",
      "\n",
      "b) If the mean is centred then the range becomes (0.2485,0.2515).\n",
      " The conclusion is that there will be no outliers as in previous experiment if mean is centred.Most of the data fall with in 3 sigma\n"
     ]
    }
   ],
   "source": [
    "answera= \" a) Range of distribution = (0.2493,0.2523) \\n Given condition range= (0.2485,0.2515) \\n This is more than 4 standard dev apart in left side  and 3 standard dev from right side of the normal distribution. \\n This is an outlier.\\nHence proportion becomes approximately 99.5% \\n\"\n",
    "print(answera)\n",
    "\n",
    "answerb=\"b) If the mean is centred then the range becomes (0.2485,0.2515).\\n The conclusion is that there will be no outliers as in previous experiment if mean is centred.Most of the data fall with in 3 sigma\"\n",
    "print(answerb)"
   ]
  },
  {
   "cell_type": "code",
   "execution_count": null,
   "metadata": {},
   "outputs": [],
   "source": []
  }
 ],
 "metadata": {
  "kernelspec": {
   "display_name": "Python 3",
   "language": "python",
   "name": "python3"
  },
  "language_info": {
   "codemirror_mode": {
    "name": "ipython",
    "version": 3
   },
   "file_extension": ".py",
   "mimetype": "text/x-python",
   "name": "python",
   "nbconvert_exporter": "python",
   "pygments_lexer": "ipython3",
   "version": "3.6.8"
  }
 },
 "nbformat": 4,
 "nbformat_minor": 4
}
