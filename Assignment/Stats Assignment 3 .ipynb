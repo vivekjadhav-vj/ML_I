{
 "cells": [
  {
   "cell_type": "markdown",
   "metadata": {},
   "source": [
    "#### Problem Statement 1:\n",
    "\n",
    "Blood glucose levels for obese patients have a mean of 100 with a standard deviation of 15. A researcher thinks that a diet high in raw cornstarch will have a positive effect on blood glucose levels. A sample of 36 patients who have tried the raw cornstarch diet have a mean glucose level of 108. Test the hypothesis that the raw cornstarch had an effect or not."
   ]
  },
  {
   "cell_type": "code",
   "execution_count": null,
   "metadata": {},
   "outputs": [],
   "source": [
    "#Solution\n",
    "\n",
    "Null hypthesis = There is no poistive effect on glucose level\n",
    "\n",
    "Alternative hypthesis = There is poistive effect on glucose level\n",
    "population mean=100\n",
    "population standard deviation=15\n",
    "sample size=36\n",
    "sample mean=108\n",
    "\n",
    "alpha = 0.05\n",
    "\n",
    "z=(population mean-sample mean)/(population sd/6)\n",
    "z=(100-108)/(15/6)\n",
    "z=-48/15\n",
    "z=-3.2\n",
    "\n",
    "zcal>ztable. \n",
    "Hence, Null hypothesis is rejected, There is poistive effect on glucose level"
   ]
  },
  {
   "cell_type": "markdown",
   "metadata": {},
   "source": [
    "#### Problem Statement 2:\n",
    "In one state, 52% of the voters are Republicans, and 48% are Democrats. In a second state, 47% of the voters are Republicans, and 53% are Democrats. Suppose a simple random sample of 100 voters are surveyed from each state. What is the probability that the survey will show a greater percentage of Republican voters in the second state than in the first state?"
   ]
  },
  {
   "cell_type": "code",
   "execution_count": null,
   "metadata": {},
   "outputs": [],
   "source": [
    "#Solution:\n",
    "Here we use proportion test for testing.\n",
    "p1=proportion of Republican voters in the first state is 0.52\n",
    "p2=proportion of Republican voters in the second state is 0.47\n",
    "\n",
    "Ho:p2>p1\n",
    "H1:p2=<p1\n",
    "    \n",
    "    z=(p1-P2)/{[(p1*(1-p1)+(p2*(1-p2))]/100}\n",
    "    z=(.52-.48)/sqrt{[(.52*(1-.52)+(.47*(1-.47))]/100}\n",
    "    z=-.7142\n",
    "From z value we accept the null hypothesis.\n",
    "    survey will show a greater f Republican voters in the first state than in the second state."
   ]
  },
  {
   "cell_type": "markdown",
   "metadata": {},
   "source": [
    "\n",
    "#### Problem Statement 3:\n",
    "You take the SAT and score 1100. The mean score for the SAT is 1026 and the standard deviation is 209. How well did you score on the test compared to the average test taker?"
   ]
  },
  {
   "cell_type": "code",
   "execution_count": null,
   "metadata": {},
   "outputs": [],
   "source": [
    "#Solution:\n",
    "    mean1=1100 \n",
    "    mean2=1026\n",
    "    sd=209\n",
    "    Ho:There is no significant diff between my SAT score and average SAT score.\n",
    "    H1:There is significant diff between ur SAT score and average SAT score.\n",
    "    Zcal=(1100-1026)/(209)\n",
    "    Zcal=.35\n",
    "    Here we accept the null hypothesis.That is There is no significant diff between my SAT score\n",
    "    and average SAT score."
   ]
  }
 ],
 "metadata": {
  "kernelspec": {
   "display_name": "Python 3",
   "language": "python",
   "name": "python3"
  },
  "language_info": {
   "codemirror_mode": {
    "name": "ipython",
    "version": 3
   },
   "file_extension": ".py",
   "mimetype": "text/x-python",
   "name": "python",
   "nbconvert_exporter": "python",
   "pygments_lexer": "ipython3",
   "version": "3.6.8"
  }
 },
 "nbformat": 4,
 "nbformat_minor": 4
}
